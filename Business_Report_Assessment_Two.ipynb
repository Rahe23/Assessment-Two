{
  "nbformat": 4,
  "nbformat_minor": 0,
  "metadata": {
    "colab": {
      "provenance": [],
      "authorship_tag": "ABX9TyNR2kKJe/FvuhGhdNndQmZg",
      "include_colab_link": true
    },
    "kernelspec": {
      "name": "python3",
      "display_name": "Python 3"
    },
    "language_info": {
      "name": "python"
    }
  },
  "cells": [
    {
      "cell_type": "markdown",
      "metadata": {
        "id": "view-in-github",
        "colab_type": "text"
      },
      "source": [
        "<a href=\"https://colab.research.google.com/github/Rahe23/Assessment-Two/blob/main/Business_Report_Assessment_Two.ipynb\" target=\"_parent\"><img src=\"https://colab.research.google.com/assets/colab-badge.svg\" alt=\"Open In Colab\"/></a>"
      ]
    },
    {
      "cell_type": "markdown",
      "source": [
        "# Overview\n",
        "Energy is used in many forms in every sphere of our life. Studying the use of energy is very important to understand how much and what is consumed. Some Energy resources are scarce. In the provided the dataset, there are different sources of energy such as Coal, Gas, Oil and Renewable Energy. The usage of these sources by states and people of those states over the timespan of 2008 to 2021 has been provided. We have been asked to solve some problems based on this dataset.\n"
      ],
      "metadata": {
        "id": "ZBpEkulDnkRR"
      }
    },
    {
      "cell_type": "markdown",
      "source": [],
      "metadata": {
        "id": "lTqSkhJOopRV"
      }
    },
    {
      "cell_type": "markdown",
      "source": [
        "# Problem Solving Methodology\n",
        "\n",
        "1.   Problem Statement\n",
        "2.   Feature Analysis\n",
        "3.   Develop an Algorithm\n",
        "4.   Convert Algorithm in to Python Code\n",
        "5.   Test Different Solutions"
      ],
      "metadata": {
        "id": "We4BlG18M2q3"
      }
    },
    {
      "cell_type": "markdown",
      "source": [],
      "metadata": {
        "id": "1Bu4pNnMore4"
      }
    },
    {
      "cell_type": "markdown",
      "source": [
        "## Step-1: Problem Statement\n",
        "\n",
        "This report aims to uncover various insights on Australian Energy Consumtions. This is an academic assignment where we have been provided some scenarios and we were asked to solve them. This report aims to show our understanding and how we use different techniques by following industry best practices."
      ],
      "metadata": {
        "id": "V1-OPXQxLPpw"
      }
    },
    {
      "cell_type": "markdown",
      "source": [],
      "metadata": {
        "id": "5gB7M5MXou2H"
      }
    },
    {
      "cell_type": "markdown",
      "source": [
        "##  Step-2: Feature Analysis"
      ],
      "metadata": {
        "id": "wuwW-9-foNk9"
      }
    },
    {
      "cell_type": "markdown",
      "source": [],
      "metadata": {
        "id": "tg6TaOKXoyQ0"
      }
    },
    {
      "cell_type": "markdown",
      "source": [
        "\n",
        "\n",
        "\n",
        "\n",
        "### Database: Aus_energy dataset as SQLite database.\n",
        "\n",
        "#### Data Schema: Cleansing has been performed.\n",
        "\n",
        "\n",
        "\n",
        "*   Year: Represents the fiscal year for which the data is recorded. In this case, all entries are from the fiscal year 2008-09.\n",
        "\n",
        "*   State:The Australian state for which the data is recorded. Examples include Western Australia (WA), New South Wales (NSW), Victoria (VIC), Queensland (QLD), and South Australia (SA).\n",
        "\n",
        "* Coal (PJ):The amount of energy consumed from coal, measured in petajoules (PJ).\n",
        "\n",
        "* Oil (PJ): The amount of energy consumed from oil, measured in petajoules (PJ).\n",
        "\n",
        "* Gas (PJ):The amount of energy consumed from gas, measured in petajoules (PJ).\n",
        "\n",
        "* Renewables (PJ):The amount of energy consumed from renewable energy sources, measured in petajoules (PJ)\n",
        "\n",
        "* Population:The population of the state during the fiscal year.\n",
        "\n",
        "* GSP ($ million):The Gross State Product (GSP) in million dollars, representing the economic output of the state.\n",
        "\n",
        "\n",
        "\n",
        "\n"
      ],
      "metadata": {
        "id": "fwUmpbeBopp0"
      }
    },
    {
      "cell_type": "markdown",
      "source": [],
      "metadata": {
        "id": "76CD99p3o-C-"
      }
    },
    {
      "cell_type": "markdown",
      "source": [
        "## Step-3: Develop an Algorithm\n",
        "\n",
        "1. Upload the 'Aus_energy_sqlite3.db' file.\n",
        "2. Import the necessary libraries (sqlite3, pandas, matplotlib.pyplot).\n",
        "3. Create a connection to the SQLite database.\n",
        "4. Load the 'Aus_energy_sqlite3.db' table into a Pandas DataFrame.\n",
        "5. Perform data exploration, which includes displaying an overview of the table, the first and last 05 rows, and general information.\n",
        "6. Check for duplicates and missing values, and handle them if necessary.\n",
        "7. Explore the data: Examine each column and visualize its distribution to identify inappropriate data.\n",
        "8. Remove inappropriate or meaningless data.\n",
        "9. Plot the graph and its descriptive statistics information again to verify that the data has been successfully cleaned.\n",
        "10. Data Analysis by Questions\n",
        "    \n",
        "    Group A:\n",
        "\n",
        "    Q1: Compute and visualize the total energy consumption for each state.\n",
        "    \n",
        "    Q2: Compute and visualize the total energy consumption by fuel type.\n",
        "    \n",
        "    Q3: Analyse and plot the total energy consumption fuel types for each year.\n",
        "    \n",
        "    Q4: Analyse and visualize the total energy consumption for each state for each year.\n",
        "    \n",
        "    Group B:\n",
        "    Q5. Analyse and visualise the total energy consumption for each state, broken down by fuel type.\n",
        "\n",
        "    Q6. Analyse the per capita energy consumption for each state for each year and create a corresponding visualization.\n",
        "\n",
        "    Group C:\n",
        "\n",
        "    Q8. Analyse the energy intensity, defined as energy consumption per unit of GSP, for each state annually and chart these figures.\n",
        "\n",
        "11. Interpret and summarise the findings\n",
        "\n",
        "\n",
        "\n",
        "\n"
      ],
      "metadata": {
        "id": "6WcI-aRXqehk"
      }
    },
    {
      "cell_type": "markdown",
      "source": [],
      "metadata": {
        "id": "0Jgs4TPUpDiH"
      }
    },
    {
      "cell_type": "markdown",
      "source": [
        "##  Step-4: Convert Algorithm in to Python Code\n",
        "\n",
        "Refer to the Code Development Notebook. Best codes are provided in this business report notebook as well."
      ],
      "metadata": {
        "id": "cNn-Pxz_QokC"
      }
    },
    {
      "cell_type": "markdown",
      "source": [],
      "metadata": {
        "id": "-HL7OyalpHAJ"
      }
    },
    {
      "cell_type": "markdown",
      "source": [
        "## Step-5: Test Different Solutions\n",
        "\n",
        "Refer to the Code Development Notebook Best codes are provided in this business report notebook as well."
      ],
      "metadata": {
        "id": "I9x-cZOAQwL_"
      }
    },
    {
      "cell_type": "markdown",
      "source": [],
      "metadata": {
        "id": "wseH3UhcqBqR"
      }
    },
    {
      "cell_type": "markdown",
      "source": [
        "# Data Analysis Report"
      ],
      "metadata": {
        "id": "Dmy1pX67QAn6"
      }
    },
    {
      "cell_type": "markdown",
      "source": [],
      "metadata": {
        "id": "1ajzU8pAqFFH"
      }
    },
    {
      "cell_type": "markdown",
      "source": [
        "### Import Libraries"
      ],
      "metadata": {
        "id": "ikRxyC4kPuxv"
      }
    },
    {
      "cell_type": "code",
      "source": [],
      "metadata": {
        "id": "B6aHxuGPqI63"
      },
      "execution_count": null,
      "outputs": []
    },
    {
      "cell_type": "code",
      "execution_count": null,
      "metadata": {
        "id": "_SJ-o9ABiS97"
      },
      "outputs": [],
      "source": [
        "# Importing necessary libraries\n",
        "import sqlite3\n",
        "import pandas as pd\n",
        "import numpy as np\n",
        "import matplotlib.pyplot as plt\n",
        "\n"
      ]
    },
    {
      "cell_type": "markdown",
      "source": [],
      "metadata": {
        "id": "w3o4pipzqNvn"
      }
    },
    {
      "cell_type": "markdown",
      "source": [
        "### Load  Data Set"
      ],
      "metadata": {
        "id": "o4x8mS1TPc_v"
      }
    },
    {
      "cell_type": "code",
      "source": [],
      "metadata": {
        "id": "f-IplJqlqRil"
      },
      "execution_count": null,
      "outputs": []
    },
    {
      "cell_type": "code",
      "source": [
        "def load_data_from_sqlite(db_path, table_name):\n",
        "\n",
        "    # Connect to the SQLite database\n",
        "    connection = sqlite3.connect(db_path)\n",
        "    cur = connection.cursor()\n",
        "\n",
        "    # Print table names\n",
        "    cur.execute(\"SELECT name FROM sqlite_master WHERE type='table';\")\n",
        "    print(\"Tables in the database:\", cur.fetchall())\n",
        "\n",
        "    # Print table schema\n",
        "    cur.execute(f\"PRAGMA table_info('{table_name}');\")\n",
        "    print(f\"Schema of the '{table_name}' table:\", cur.fetchall())\n",
        "\n",
        "    # Load the data into a DataFrame\n",
        "    query = f\"SELECT * FROM {table_name};\"\n",
        "    df = pd.read_sql_query(query, connection)\n",
        "\n",
        "    # Close the connection\n",
        "    connection.close()\n",
        "\n",
        "    return df\n"
      ],
      "metadata": {
        "id": "JsB1544uA29Q"
      },
      "execution_count": null,
      "outputs": []
    },
    {
      "cell_type": "code",
      "source": [],
      "metadata": {
        "id": "edq6jX_qqVBH"
      },
      "execution_count": null,
      "outputs": []
    },
    {
      "cell_type": "code",
      "source": [
        "# load dataset\n",
        "db_path = '/content/AUS_energy_sqlite3.db'\n",
        "table_name = 'AUS_energy'\n",
        "asus_engy_df = load_data_from_sqlite(db_path, table_name)\n"
      ],
      "metadata": {
        "colab": {
          "base_uri": "https://localhost:8080/"
        },
        "id": "WR6JC6h_iWvz",
        "outputId": "8a7f9d7f-f7cf-4901-a071-3335577ed95f"
      },
      "execution_count": null,
      "outputs": [
        {
          "output_type": "stream",
          "name": "stdout",
          "text": [
            "Tables in the database: [('AUS_energy',)]\n",
            "Schema of the 'AUS_energy' table: [(0, 'Year', 'TEXT', 0, None, 0), (1, 'State', 'TEXT', 0, None, 0), (2, 'Coal (PJ)', 'REAL', 0, None, 0), (3, 'Oil (PJ)', 'REAL', 0, None, 0), (4, 'Gas (PJ)', 'REAL', 0, None, 0), (5, 'Renewables (PJ)', 'REAL', 0, None, 0), (6, 'Population', 'INTEGER', 0, None, 0), (7, 'GSP ($ million)', 'INTEGER', 0, None, 0)]\n"
          ]
        }
      ]
    },
    {
      "cell_type": "markdown",
      "source": [],
      "metadata": {
        "id": "QwDvTkt2qY2l"
      }
    },
    {
      "cell_type": "markdown",
      "source": [
        "### Display Data"
      ],
      "metadata": {
        "id": "lKBZZD2vP1qn"
      }
    },
    {
      "cell_type": "code",
      "source": [],
      "metadata": {
        "id": "bG8xv1XMqcNM"
      },
      "execution_count": null,
      "outputs": []
    },
    {
      "cell_type": "code",
      "source": [
        "# Display the first few rows of the DataFrame\n",
        "asus_engy_df.head(5)"
      ],
      "metadata": {
        "colab": {
          "base_uri": "https://localhost:8080/",
          "height": 206
        },
        "id": "kTAIxp0NA3E4",
        "outputId": "badaf563-abb9-4fca-880b-80f0bd34723f"
      },
      "execution_count": null,
      "outputs": [
        {
          "output_type": "execute_result",
          "data": {
            "text/plain": [
              "      Year State Coal (PJ)  Oil (PJ)  Gas (PJ)  Renewables (PJ)  Population  \\\n",
              "0  2008-09    WA     132.9     294.3     474.7             15.6     2240250   \n",
              "1  2008-09   NSW     800.9     587.5     131.6             54.7     7408540   \n",
              "2  2008-09   VIC     695.3     432.9     273.5             33.6     5371934   \n",
              "3  2008-09   QLD     629.2     469.5     187.9             77.4     4328771   \n",
              "4  2008-09    SA      80.2     120.2     134.0             21.2     1608902   \n",
              "\n",
              "   GSP ($ million)  \n",
              "0           244695  \n",
              "1           530532  \n",
              "2           368579  \n",
              "3           284526  \n",
              "4           100174  "
            ],
            "text/html": [
              "\n",
              "  <div id=\"df-73b9673f-7225-47d8-b27a-b900fabc217b\" class=\"colab-df-container\">\n",
              "    <div>\n",
              "<style scoped>\n",
              "    .dataframe tbody tr th:only-of-type {\n",
              "        vertical-align: middle;\n",
              "    }\n",
              "\n",
              "    .dataframe tbody tr th {\n",
              "        vertical-align: top;\n",
              "    }\n",
              "\n",
              "    .dataframe thead th {\n",
              "        text-align: right;\n",
              "    }\n",
              "</style>\n",
              "<table border=\"1\" class=\"dataframe\">\n",
              "  <thead>\n",
              "    <tr style=\"text-align: right;\">\n",
              "      <th></th>\n",
              "      <th>Year</th>\n",
              "      <th>State</th>\n",
              "      <th>Coal (PJ)</th>\n",
              "      <th>Oil (PJ)</th>\n",
              "      <th>Gas (PJ)</th>\n",
              "      <th>Renewables (PJ)</th>\n",
              "      <th>Population</th>\n",
              "      <th>GSP ($ million)</th>\n",
              "    </tr>\n",
              "  </thead>\n",
              "  <tbody>\n",
              "    <tr>\n",
              "      <th>0</th>\n",
              "      <td>2008-09</td>\n",
              "      <td>WA</td>\n",
              "      <td>132.9</td>\n",
              "      <td>294.3</td>\n",
              "      <td>474.7</td>\n",
              "      <td>15.6</td>\n",
              "      <td>2240250</td>\n",
              "      <td>244695</td>\n",
              "    </tr>\n",
              "    <tr>\n",
              "      <th>1</th>\n",
              "      <td>2008-09</td>\n",
              "      <td>NSW</td>\n",
              "      <td>800.9</td>\n",
              "      <td>587.5</td>\n",
              "      <td>131.6</td>\n",
              "      <td>54.7</td>\n",
              "      <td>7408540</td>\n",
              "      <td>530532</td>\n",
              "    </tr>\n",
              "    <tr>\n",
              "      <th>2</th>\n",
              "      <td>2008-09</td>\n",
              "      <td>VIC</td>\n",
              "      <td>695.3</td>\n",
              "      <td>432.9</td>\n",
              "      <td>273.5</td>\n",
              "      <td>33.6</td>\n",
              "      <td>5371934</td>\n",
              "      <td>368579</td>\n",
              "    </tr>\n",
              "    <tr>\n",
              "      <th>3</th>\n",
              "      <td>2008-09</td>\n",
              "      <td>QLD</td>\n",
              "      <td>629.2</td>\n",
              "      <td>469.5</td>\n",
              "      <td>187.9</td>\n",
              "      <td>77.4</td>\n",
              "      <td>4328771</td>\n",
              "      <td>284526</td>\n",
              "    </tr>\n",
              "    <tr>\n",
              "      <th>4</th>\n",
              "      <td>2008-09</td>\n",
              "      <td>SA</td>\n",
              "      <td>80.2</td>\n",
              "      <td>120.2</td>\n",
              "      <td>134.0</td>\n",
              "      <td>21.2</td>\n",
              "      <td>1608902</td>\n",
              "      <td>100174</td>\n",
              "    </tr>\n",
              "  </tbody>\n",
              "</table>\n",
              "</div>\n",
              "    <div class=\"colab-df-buttons\">\n",
              "\n",
              "  <div class=\"colab-df-container\">\n",
              "    <button class=\"colab-df-convert\" onclick=\"convertToInteractive('df-73b9673f-7225-47d8-b27a-b900fabc217b')\"\n",
              "            title=\"Convert this dataframe to an interactive table.\"\n",
              "            style=\"display:none;\">\n",
              "\n",
              "  <svg xmlns=\"http://www.w3.org/2000/svg\" height=\"24px\" viewBox=\"0 -960 960 960\">\n",
              "    <path d=\"M120-120v-720h720v720H120Zm60-500h600v-160H180v160Zm220 220h160v-160H400v160Zm0 220h160v-160H400v160ZM180-400h160v-160H180v160Zm440 0h160v-160H620v160ZM180-180h160v-160H180v160Zm440 0h160v-160H620v160Z\"/>\n",
              "  </svg>\n",
              "    </button>\n",
              "\n",
              "  <style>\n",
              "    .colab-df-container {\n",
              "      display:flex;\n",
              "      gap: 12px;\n",
              "    }\n",
              "\n",
              "    .colab-df-convert {\n",
              "      background-color: #E8F0FE;\n",
              "      border: none;\n",
              "      border-radius: 50%;\n",
              "      cursor: pointer;\n",
              "      display: none;\n",
              "      fill: #1967D2;\n",
              "      height: 32px;\n",
              "      padding: 0 0 0 0;\n",
              "      width: 32px;\n",
              "    }\n",
              "\n",
              "    .colab-df-convert:hover {\n",
              "      background-color: #E2EBFA;\n",
              "      box-shadow: 0px 1px 2px rgba(60, 64, 67, 0.3), 0px 1px 3px 1px rgba(60, 64, 67, 0.15);\n",
              "      fill: #174EA6;\n",
              "    }\n",
              "\n",
              "    .colab-df-buttons div {\n",
              "      margin-bottom: 4px;\n",
              "    }\n",
              "\n",
              "    [theme=dark] .colab-df-convert {\n",
              "      background-color: #3B4455;\n",
              "      fill: #D2E3FC;\n",
              "    }\n",
              "\n",
              "    [theme=dark] .colab-df-convert:hover {\n",
              "      background-color: #434B5C;\n",
              "      box-shadow: 0px 1px 3px 1px rgba(0, 0, 0, 0.15);\n",
              "      filter: drop-shadow(0px 1px 2px rgba(0, 0, 0, 0.3));\n",
              "      fill: #FFFFFF;\n",
              "    }\n",
              "  </style>\n",
              "\n",
              "    <script>\n",
              "      const buttonEl =\n",
              "        document.querySelector('#df-73b9673f-7225-47d8-b27a-b900fabc217b button.colab-df-convert');\n",
              "      buttonEl.style.display =\n",
              "        google.colab.kernel.accessAllowed ? 'block' : 'none';\n",
              "\n",
              "      async function convertToInteractive(key) {\n",
              "        const element = document.querySelector('#df-73b9673f-7225-47d8-b27a-b900fabc217b');\n",
              "        const dataTable =\n",
              "          await google.colab.kernel.invokeFunction('convertToInteractive',\n",
              "                                                    [key], {});\n",
              "        if (!dataTable) return;\n",
              "\n",
              "        const docLinkHtml = 'Like what you see? Visit the ' +\n",
              "          '<a target=\"_blank\" href=https://colab.research.google.com/notebooks/data_table.ipynb>data table notebook</a>'\n",
              "          + ' to learn more about interactive tables.';\n",
              "        element.innerHTML = '';\n",
              "        dataTable['output_type'] = 'display_data';\n",
              "        await google.colab.output.renderOutput(dataTable, element);\n",
              "        const docLink = document.createElement('div');\n",
              "        docLink.innerHTML = docLinkHtml;\n",
              "        element.appendChild(docLink);\n",
              "      }\n",
              "    </script>\n",
              "  </div>\n",
              "\n",
              "\n",
              "<div id=\"df-0a4ad40e-8b1c-465c-985a-2b5e968c338c\">\n",
              "  <button class=\"colab-df-quickchart\" onclick=\"quickchart('df-0a4ad40e-8b1c-465c-985a-2b5e968c338c')\"\n",
              "            title=\"Suggest charts\"\n",
              "            style=\"display:none;\">\n",
              "\n",
              "<svg xmlns=\"http://www.w3.org/2000/svg\" height=\"24px\"viewBox=\"0 0 24 24\"\n",
              "     width=\"24px\">\n",
              "    <g>\n",
              "        <path d=\"M19 3H5c-1.1 0-2 .9-2 2v14c0 1.1.9 2 2 2h14c1.1 0 2-.9 2-2V5c0-1.1-.9-2-2-2zM9 17H7v-7h2v7zm4 0h-2V7h2v10zm4 0h-2v-4h2v4z\"/>\n",
              "    </g>\n",
              "</svg>\n",
              "  </button>\n",
              "\n",
              "<style>\n",
              "  .colab-df-quickchart {\n",
              "      --bg-color: #E8F0FE;\n",
              "      --fill-color: #1967D2;\n",
              "      --hover-bg-color: #E2EBFA;\n",
              "      --hover-fill-color: #174EA6;\n",
              "      --disabled-fill-color: #AAA;\n",
              "      --disabled-bg-color: #DDD;\n",
              "  }\n",
              "\n",
              "  [theme=dark] .colab-df-quickchart {\n",
              "      --bg-color: #3B4455;\n",
              "      --fill-color: #D2E3FC;\n",
              "      --hover-bg-color: #434B5C;\n",
              "      --hover-fill-color: #FFFFFF;\n",
              "      --disabled-bg-color: #3B4455;\n",
              "      --disabled-fill-color: #666;\n",
              "  }\n",
              "\n",
              "  .colab-df-quickchart {\n",
              "    background-color: var(--bg-color);\n",
              "    border: none;\n",
              "    border-radius: 50%;\n",
              "    cursor: pointer;\n",
              "    display: none;\n",
              "    fill: var(--fill-color);\n",
              "    height: 32px;\n",
              "    padding: 0;\n",
              "    width: 32px;\n",
              "  }\n",
              "\n",
              "  .colab-df-quickchart:hover {\n",
              "    background-color: var(--hover-bg-color);\n",
              "    box-shadow: 0 1px 2px rgba(60, 64, 67, 0.3), 0 1px 3px 1px rgba(60, 64, 67, 0.15);\n",
              "    fill: var(--button-hover-fill-color);\n",
              "  }\n",
              "\n",
              "  .colab-df-quickchart-complete:disabled,\n",
              "  .colab-df-quickchart-complete:disabled:hover {\n",
              "    background-color: var(--disabled-bg-color);\n",
              "    fill: var(--disabled-fill-color);\n",
              "    box-shadow: none;\n",
              "  }\n",
              "\n",
              "  .colab-df-spinner {\n",
              "    border: 2px solid var(--fill-color);\n",
              "    border-color: transparent;\n",
              "    border-bottom-color: var(--fill-color);\n",
              "    animation:\n",
              "      spin 1s steps(1) infinite;\n",
              "  }\n",
              "\n",
              "  @keyframes spin {\n",
              "    0% {\n",
              "      border-color: transparent;\n",
              "      border-bottom-color: var(--fill-color);\n",
              "      border-left-color: var(--fill-color);\n",
              "    }\n",
              "    20% {\n",
              "      border-color: transparent;\n",
              "      border-left-color: var(--fill-color);\n",
              "      border-top-color: var(--fill-color);\n",
              "    }\n",
              "    30% {\n",
              "      border-color: transparent;\n",
              "      border-left-color: var(--fill-color);\n",
              "      border-top-color: var(--fill-color);\n",
              "      border-right-color: var(--fill-color);\n",
              "    }\n",
              "    40% {\n",
              "      border-color: transparent;\n",
              "      border-right-color: var(--fill-color);\n",
              "      border-top-color: var(--fill-color);\n",
              "    }\n",
              "    60% {\n",
              "      border-color: transparent;\n",
              "      border-right-color: var(--fill-color);\n",
              "    }\n",
              "    80% {\n",
              "      border-color: transparent;\n",
              "      border-right-color: var(--fill-color);\n",
              "      border-bottom-color: var(--fill-color);\n",
              "    }\n",
              "    90% {\n",
              "      border-color: transparent;\n",
              "      border-bottom-color: var(--fill-color);\n",
              "    }\n",
              "  }\n",
              "</style>\n",
              "\n",
              "  <script>\n",
              "    async function quickchart(key) {\n",
              "      const quickchartButtonEl =\n",
              "        document.querySelector('#' + key + ' button');\n",
              "      quickchartButtonEl.disabled = true;  // To prevent multiple clicks.\n",
              "      quickchartButtonEl.classList.add('colab-df-spinner');\n",
              "      try {\n",
              "        const charts = await google.colab.kernel.invokeFunction(\n",
              "            'suggestCharts', [key], {});\n",
              "      } catch (error) {\n",
              "        console.error('Error during call to suggestCharts:', error);\n",
              "      }\n",
              "      quickchartButtonEl.classList.remove('colab-df-spinner');\n",
              "      quickchartButtonEl.classList.add('colab-df-quickchart-complete');\n",
              "    }\n",
              "    (() => {\n",
              "      let quickchartButtonEl =\n",
              "        document.querySelector('#df-0a4ad40e-8b1c-465c-985a-2b5e968c338c button');\n",
              "      quickchartButtonEl.style.display =\n",
              "        google.colab.kernel.accessAllowed ? 'block' : 'none';\n",
              "    })();\n",
              "  </script>\n",
              "</div>\n",
              "\n",
              "    </div>\n",
              "  </div>\n"
            ],
            "application/vnd.google.colaboratory.intrinsic+json": {
              "type": "dataframe",
              "variable_name": "asus_engy_df",
              "summary": "{\n  \"name\": \"asus_engy_df\",\n  \"rows\": 98,\n  \"fields\": [\n    {\n      \"column\": \"Year\",\n      \"properties\": {\n        \"dtype\": \"category\",\n        \"num_unique_values\": 14,\n        \"samples\": [\n          \"2017-18\",\n          \"2019-20\",\n          \"2008-09\"\n        ],\n        \"semantic_type\": \"\",\n        \"description\": \"\"\n      }\n    },\n    {\n      \"column\": \"State\",\n      \"properties\": {\n        \"dtype\": \"category\",\n        \"num_unique_values\": 7,\n        \"samples\": [\n          \"WA\",\n          \"NSW\",\n          \"TAS\"\n        ],\n        \"semantic_type\": \"\",\n        \"description\": \"\"\n      }\n    },\n    {\n      \"column\": \"Coal (PJ)\",\n      \"properties\": {\n        \"dtype\": \"date\",\n        \"min\": \"1970-01-01 00:00:00.000000008\",\n        \"max\": \"1970-01-01 00:00:00.000000800\",\n        \"num_unique_values\": 84,\n        \"samples\": [\n          114.3,\n          132.9,\n          570.6\n        ],\n        \"semantic_type\": \"\",\n        \"description\": \"\"\n      }\n    },\n    {\n      \"column\": \"Oil (PJ)\",\n      \"properties\": {\n        \"dtype\": \"number\",\n        \"std\": 229.31822404059,\n        \"min\": 33.4,\n        \"max\": 687.4,\n        \"num_unique_values\": 95,\n        \"samples\": [\n          439.4,\n          687.4,\n          148.8\n        ],\n        \"semantic_type\": \"\",\n        \"description\": \"\"\n      }\n    },\n    {\n      \"column\": \"Gas (PJ)\",\n      \"properties\": {\n        \"dtype\": \"number\",\n        \"std\": 179.20565060661863,\n        \"min\": 6.6,\n        \"max\": 692.6,\n        \"num_unique_values\": 94,\n        \"samples\": [\n          539.9,\n          142.1,\n          143.6\n        ],\n        \"semantic_type\": \"\",\n        \"description\": \"\"\n      }\n    },\n    {\n      \"column\": \"Renewables (PJ)\",\n      \"properties\": {\n        \"dtype\": \"number\",\n        \"std\": 38.383143470983136,\n        \"min\": 0.4,\n        \"max\": 143.0,\n        \"num_unique_values\": 91,\n        \"samples\": [\n          71.0,\n          41.0,\n          129.6\n        ],\n        \"semantic_type\": \"\",\n        \"description\": \"\"\n      }\n    },\n    {\n      \"column\": \"Population\",\n      \"properties\": {\n        \"dtype\": \"number\",\n        \"std\": 2769969,\n        \"min\": 226027,\n        \"max\": 8622575,\n        \"num_unique_values\": 98,\n        \"samples\": [\n          247412,\n          513621,\n          5320496\n        ],\n        \"semantic_type\": \"\",\n        \"description\": \"\"\n      }\n    },\n    {\n      \"column\": \"GSP ($ million)\",\n      \"properties\": {\n        \"dtype\": \"number\",\n        \"std\": 209376,\n        \"min\": 19469,\n        \"max\": 706003,\n        \"num_unique_values\": 98,\n        \"samples\": [\n          23616,\n          29910,\n          384508\n        ],\n        \"semantic_type\": \"\",\n        \"description\": \"\"\n      }\n    }\n  ]\n}"
            }
          },
          "metadata": {},
          "execution_count": 6
        }
      ]
    },
    {
      "cell_type": "markdown",
      "source": [],
      "metadata": {
        "id": "TABFQvtdqf4j"
      }
    },
    {
      "cell_type": "markdown",
      "source": [
        "###  Display Data Type"
      ],
      "metadata": {
        "id": "E0490_KVQKR5"
      }
    },
    {
      "cell_type": "code",
      "source": [],
      "metadata": {
        "id": "nA7_1ezQqg8Z"
      },
      "execution_count": null,
      "outputs": []
    },
    {
      "cell_type": "code",
      "source": [
        "asus_engy_df.info()"
      ],
      "metadata": {
        "colab": {
          "base_uri": "https://localhost:8080/"
        },
        "id": "FkMc76BqA3Hh",
        "outputId": "19b9d817-fe1d-4dc2-dd9b-0058ee683259"
      },
      "execution_count": null,
      "outputs": [
        {
          "output_type": "stream",
          "name": "stdout",
          "text": [
            "<class 'pandas.core.frame.DataFrame'>\n",
            "RangeIndex: 98 entries, 0 to 97\n",
            "Data columns (total 8 columns):\n",
            " #   Column           Non-Null Count  Dtype  \n",
            "---  ------           --------------  -----  \n",
            " 0   Year             98 non-null     object \n",
            " 1   State            98 non-null     object \n",
            " 2   Coal (PJ)        98 non-null     object \n",
            " 3   Oil (PJ)         98 non-null     float64\n",
            " 4   Gas (PJ)         98 non-null     float64\n",
            " 5   Renewables (PJ)  98 non-null     float64\n",
            " 6   Population       98 non-null     int64  \n",
            " 7   GSP ($ million)  98 non-null     int64  \n",
            "dtypes: float64(3), int64(2), object(3)\n",
            "memory usage: 6.2+ KB\n"
          ]
        }
      ]
    },
    {
      "cell_type": "markdown",
      "source": [],
      "metadata": {
        "id": "VJ2qEBhZqo5e"
      }
    },
    {
      "cell_type": "markdown",
      "source": [
        "#### The dataset provides information with the following columns: Year (object): The year of the data record, stored as a string. State (object): The state for which the data is recorded, stored as a string. Coal (PJ) (object): The energy consumption from coal, stored as a string. Oil (PJ) (float64): The energy consumption from oil, stored as a floating-point number. Gas (PJ) (float64): The energy consumption from gas, stored as a floating-point number. Renewables (PJ) (float64): The energy consumption from renewable sources, stored as a floating-point number. Population (int64): The population of the state, stored as an integer. GSP ($ million) (int64): The Gross State Product in million dollars, stored as an integer."
      ],
      "metadata": {
        "id": "Ypmw2AX5jAxg"
      }
    },
    {
      "cell_type": "code",
      "source": [],
      "metadata": {
        "id": "PdtSZ-6mqsA0"
      },
      "execution_count": null,
      "outputs": []
    },
    {
      "cell_type": "code",
      "source": [
        "# Summary statistics of numerical columns\n",
        "asus_engy_df.describe()"
      ],
      "metadata": {
        "colab": {
          "base_uri": "https://localhost:8080/",
          "height": 300
        },
        "id": "R3bRVkanQdy_",
        "outputId": "982ad198-574a-49d8-d7e3-2bff85438338"
      },
      "execution_count": null,
      "outputs": [
        {
          "output_type": "execute_result",
          "data": {
            "text/plain": [
              "         Oil (PJ)    Gas (PJ)  Renewables (PJ)    Population  GSP ($ million)\n",
              "count   98.000000   98.000000        98.000000  9.800000e+01        98.000000\n",
              "mean   317.653061  204.587755        51.580612  3.424330e+06    266337.000000\n",
              "std    229.318224  179.205651        38.383143  2.769970e+06    209376.485897\n",
              "min     33.400000    6.600000         0.400000  2.260270e+05     19469.000000\n",
              "25%     54.350000   81.675000        24.025000  5.502752e+05     33440.000000\n",
              "50%    379.100000  144.700000        42.500000  2.548325e+06    301927.000000\n",
              "75%    507.675000  263.600000        72.600000  5.622772e+06    390060.250000\n",
              "max    687.400000  692.600000       143.000000  8.622575e+06    706003.000000"
            ],
            "text/html": [
              "\n",
              "  <div id=\"df-3e67ceeb-cb84-4d63-af9c-b4b73ea84b80\" class=\"colab-df-container\">\n",
              "    <div>\n",
              "<style scoped>\n",
              "    .dataframe tbody tr th:only-of-type {\n",
              "        vertical-align: middle;\n",
              "    }\n",
              "\n",
              "    .dataframe tbody tr th {\n",
              "        vertical-align: top;\n",
              "    }\n",
              "\n",
              "    .dataframe thead th {\n",
              "        text-align: right;\n",
              "    }\n",
              "</style>\n",
              "<table border=\"1\" class=\"dataframe\">\n",
              "  <thead>\n",
              "    <tr style=\"text-align: right;\">\n",
              "      <th></th>\n",
              "      <th>Oil (PJ)</th>\n",
              "      <th>Gas (PJ)</th>\n",
              "      <th>Renewables (PJ)</th>\n",
              "      <th>Population</th>\n",
              "      <th>GSP ($ million)</th>\n",
              "    </tr>\n",
              "  </thead>\n",
              "  <tbody>\n",
              "    <tr>\n",
              "      <th>count</th>\n",
              "      <td>98.000000</td>\n",
              "      <td>98.000000</td>\n",
              "      <td>98.000000</td>\n",
              "      <td>9.800000e+01</td>\n",
              "      <td>98.000000</td>\n",
              "    </tr>\n",
              "    <tr>\n",
              "      <th>mean</th>\n",
              "      <td>317.653061</td>\n",
              "      <td>204.587755</td>\n",
              "      <td>51.580612</td>\n",
              "      <td>3.424330e+06</td>\n",
              "      <td>266337.000000</td>\n",
              "    </tr>\n",
              "    <tr>\n",
              "      <th>std</th>\n",
              "      <td>229.318224</td>\n",
              "      <td>179.205651</td>\n",
              "      <td>38.383143</td>\n",
              "      <td>2.769970e+06</td>\n",
              "      <td>209376.485897</td>\n",
              "    </tr>\n",
              "    <tr>\n",
              "      <th>min</th>\n",
              "      <td>33.400000</td>\n",
              "      <td>6.600000</td>\n",
              "      <td>0.400000</td>\n",
              "      <td>2.260270e+05</td>\n",
              "      <td>19469.000000</td>\n",
              "    </tr>\n",
              "    <tr>\n",
              "      <th>25%</th>\n",
              "      <td>54.350000</td>\n",
              "      <td>81.675000</td>\n",
              "      <td>24.025000</td>\n",
              "      <td>5.502752e+05</td>\n",
              "      <td>33440.000000</td>\n",
              "    </tr>\n",
              "    <tr>\n",
              "      <th>50%</th>\n",
              "      <td>379.100000</td>\n",
              "      <td>144.700000</td>\n",
              "      <td>42.500000</td>\n",
              "      <td>2.548325e+06</td>\n",
              "      <td>301927.000000</td>\n",
              "    </tr>\n",
              "    <tr>\n",
              "      <th>75%</th>\n",
              "      <td>507.675000</td>\n",
              "      <td>263.600000</td>\n",
              "      <td>72.600000</td>\n",
              "      <td>5.622772e+06</td>\n",
              "      <td>390060.250000</td>\n",
              "    </tr>\n",
              "    <tr>\n",
              "      <th>max</th>\n",
              "      <td>687.400000</td>\n",
              "      <td>692.600000</td>\n",
              "      <td>143.000000</td>\n",
              "      <td>8.622575e+06</td>\n",
              "      <td>706003.000000</td>\n",
              "    </tr>\n",
              "  </tbody>\n",
              "</table>\n",
              "</div>\n",
              "    <div class=\"colab-df-buttons\">\n",
              "\n",
              "  <div class=\"colab-df-container\">\n",
              "    <button class=\"colab-df-convert\" onclick=\"convertToInteractive('df-3e67ceeb-cb84-4d63-af9c-b4b73ea84b80')\"\n",
              "            title=\"Convert this dataframe to an interactive table.\"\n",
              "            style=\"display:none;\">\n",
              "\n",
              "  <svg xmlns=\"http://www.w3.org/2000/svg\" height=\"24px\" viewBox=\"0 -960 960 960\">\n",
              "    <path d=\"M120-120v-720h720v720H120Zm60-500h600v-160H180v160Zm220 220h160v-160H400v160Zm0 220h160v-160H400v160ZM180-400h160v-160H180v160Zm440 0h160v-160H620v160ZM180-180h160v-160H180v160Zm440 0h160v-160H620v160Z\"/>\n",
              "  </svg>\n",
              "    </button>\n",
              "\n",
              "  <style>\n",
              "    .colab-df-container {\n",
              "      display:flex;\n",
              "      gap: 12px;\n",
              "    }\n",
              "\n",
              "    .colab-df-convert {\n",
              "      background-color: #E8F0FE;\n",
              "      border: none;\n",
              "      border-radius: 50%;\n",
              "      cursor: pointer;\n",
              "      display: none;\n",
              "      fill: #1967D2;\n",
              "      height: 32px;\n",
              "      padding: 0 0 0 0;\n",
              "      width: 32px;\n",
              "    }\n",
              "\n",
              "    .colab-df-convert:hover {\n",
              "      background-color: #E2EBFA;\n",
              "      box-shadow: 0px 1px 2px rgba(60, 64, 67, 0.3), 0px 1px 3px 1px rgba(60, 64, 67, 0.15);\n",
              "      fill: #174EA6;\n",
              "    }\n",
              "\n",
              "    .colab-df-buttons div {\n",
              "      margin-bottom: 4px;\n",
              "    }\n",
              "\n",
              "    [theme=dark] .colab-df-convert {\n",
              "      background-color: #3B4455;\n",
              "      fill: #D2E3FC;\n",
              "    }\n",
              "\n",
              "    [theme=dark] .colab-df-convert:hover {\n",
              "      background-color: #434B5C;\n",
              "      box-shadow: 0px 1px 3px 1px rgba(0, 0, 0, 0.15);\n",
              "      filter: drop-shadow(0px 1px 2px rgba(0, 0, 0, 0.3));\n",
              "      fill: #FFFFFF;\n",
              "    }\n",
              "  </style>\n",
              "\n",
              "    <script>\n",
              "      const buttonEl =\n",
              "        document.querySelector('#df-3e67ceeb-cb84-4d63-af9c-b4b73ea84b80 button.colab-df-convert');\n",
              "      buttonEl.style.display =\n",
              "        google.colab.kernel.accessAllowed ? 'block' : 'none';\n",
              "\n",
              "      async function convertToInteractive(key) {\n",
              "        const element = document.querySelector('#df-3e67ceeb-cb84-4d63-af9c-b4b73ea84b80');\n",
              "        const dataTable =\n",
              "          await google.colab.kernel.invokeFunction('convertToInteractive',\n",
              "                                                    [key], {});\n",
              "        if (!dataTable) return;\n",
              "\n",
              "        const docLinkHtml = 'Like what you see? Visit the ' +\n",
              "          '<a target=\"_blank\" href=https://colab.research.google.com/notebooks/data_table.ipynb>data table notebook</a>'\n",
              "          + ' to learn more about interactive tables.';\n",
              "        element.innerHTML = '';\n",
              "        dataTable['output_type'] = 'display_data';\n",
              "        await google.colab.output.renderOutput(dataTable, element);\n",
              "        const docLink = document.createElement('div');\n",
              "        docLink.innerHTML = docLinkHtml;\n",
              "        element.appendChild(docLink);\n",
              "      }\n",
              "    </script>\n",
              "  </div>\n",
              "\n",
              "\n",
              "<div id=\"df-dec09172-2b8a-465e-8db1-d4d2d87c3a69\">\n",
              "  <button class=\"colab-df-quickchart\" onclick=\"quickchart('df-dec09172-2b8a-465e-8db1-d4d2d87c3a69')\"\n",
              "            title=\"Suggest charts\"\n",
              "            style=\"display:none;\">\n",
              "\n",
              "<svg xmlns=\"http://www.w3.org/2000/svg\" height=\"24px\"viewBox=\"0 0 24 24\"\n",
              "     width=\"24px\">\n",
              "    <g>\n",
              "        <path d=\"M19 3H5c-1.1 0-2 .9-2 2v14c0 1.1.9 2 2 2h14c1.1 0 2-.9 2-2V5c0-1.1-.9-2-2-2zM9 17H7v-7h2v7zm4 0h-2V7h2v10zm4 0h-2v-4h2v4z\"/>\n",
              "    </g>\n",
              "</svg>\n",
              "  </button>\n",
              "\n",
              "<style>\n",
              "  .colab-df-quickchart {\n",
              "      --bg-color: #E8F0FE;\n",
              "      --fill-color: #1967D2;\n",
              "      --hover-bg-color: #E2EBFA;\n",
              "      --hover-fill-color: #174EA6;\n",
              "      --disabled-fill-color: #AAA;\n",
              "      --disabled-bg-color: #DDD;\n",
              "  }\n",
              "\n",
              "  [theme=dark] .colab-df-quickchart {\n",
              "      --bg-color: #3B4455;\n",
              "      --fill-color: #D2E3FC;\n",
              "      --hover-bg-color: #434B5C;\n",
              "      --hover-fill-color: #FFFFFF;\n",
              "      --disabled-bg-color: #3B4455;\n",
              "      --disabled-fill-color: #666;\n",
              "  }\n",
              "\n",
              "  .colab-df-quickchart {\n",
              "    background-color: var(--bg-color);\n",
              "    border: none;\n",
              "    border-radius: 50%;\n",
              "    cursor: pointer;\n",
              "    display: none;\n",
              "    fill: var(--fill-color);\n",
              "    height: 32px;\n",
              "    padding: 0;\n",
              "    width: 32px;\n",
              "  }\n",
              "\n",
              "  .colab-df-quickchart:hover {\n",
              "    background-color: var(--hover-bg-color);\n",
              "    box-shadow: 0 1px 2px rgba(60, 64, 67, 0.3), 0 1px 3px 1px rgba(60, 64, 67, 0.15);\n",
              "    fill: var(--button-hover-fill-color);\n",
              "  }\n",
              "\n",
              "  .colab-df-quickchart-complete:disabled,\n",
              "  .colab-df-quickchart-complete:disabled:hover {\n",
              "    background-color: var(--disabled-bg-color);\n",
              "    fill: var(--disabled-fill-color);\n",
              "    box-shadow: none;\n",
              "  }\n",
              "\n",
              "  .colab-df-spinner {\n",
              "    border: 2px solid var(--fill-color);\n",
              "    border-color: transparent;\n",
              "    border-bottom-color: var(--fill-color);\n",
              "    animation:\n",
              "      spin 1s steps(1) infinite;\n",
              "  }\n",
              "\n",
              "  @keyframes spin {\n",
              "    0% {\n",
              "      border-color: transparent;\n",
              "      border-bottom-color: var(--fill-color);\n",
              "      border-left-color: var(--fill-color);\n",
              "    }\n",
              "    20% {\n",
              "      border-color: transparent;\n",
              "      border-left-color: var(--fill-color);\n",
              "      border-top-color: var(--fill-color);\n",
              "    }\n",
              "    30% {\n",
              "      border-color: transparent;\n",
              "      border-left-color: var(--fill-color);\n",
              "      border-top-color: var(--fill-color);\n",
              "      border-right-color: var(--fill-color);\n",
              "    }\n",
              "    40% {\n",
              "      border-color: transparent;\n",
              "      border-right-color: var(--fill-color);\n",
              "      border-top-color: var(--fill-color);\n",
              "    }\n",
              "    60% {\n",
              "      border-color: transparent;\n",
              "      border-right-color: var(--fill-color);\n",
              "    }\n",
              "    80% {\n",
              "      border-color: transparent;\n",
              "      border-right-color: var(--fill-color);\n",
              "      border-bottom-color: var(--fill-color);\n",
              "    }\n",
              "    90% {\n",
              "      border-color: transparent;\n",
              "      border-bottom-color: var(--fill-color);\n",
              "    }\n",
              "  }\n",
              "</style>\n",
              "\n",
              "  <script>\n",
              "    async function quickchart(key) {\n",
              "      const quickchartButtonEl =\n",
              "        document.querySelector('#' + key + ' button');\n",
              "      quickchartButtonEl.disabled = true;  // To prevent multiple clicks.\n",
              "      quickchartButtonEl.classList.add('colab-df-spinner');\n",
              "      try {\n",
              "        const charts = await google.colab.kernel.invokeFunction(\n",
              "            'suggestCharts', [key], {});\n",
              "      } catch (error) {\n",
              "        console.error('Error during call to suggestCharts:', error);\n",
              "      }\n",
              "      quickchartButtonEl.classList.remove('colab-df-spinner');\n",
              "      quickchartButtonEl.classList.add('colab-df-quickchart-complete');\n",
              "    }\n",
              "    (() => {\n",
              "      let quickchartButtonEl =\n",
              "        document.querySelector('#df-dec09172-2b8a-465e-8db1-d4d2d87c3a69 button');\n",
              "      quickchartButtonEl.style.display =\n",
              "        google.colab.kernel.accessAllowed ? 'block' : 'none';\n",
              "    })();\n",
              "  </script>\n",
              "</div>\n",
              "\n",
              "    </div>\n",
              "  </div>\n"
            ],
            "application/vnd.google.colaboratory.intrinsic+json": {
              "type": "dataframe",
              "summary": "{\n  \"name\": \"asus_engy_df\",\n  \"rows\": 8,\n  \"fields\": [\n    {\n      \"column\": \"Oil (PJ)\",\n      \"properties\": {\n        \"dtype\": \"number\",\n        \"std\": 231.73629237814743,\n        \"min\": 33.4,\n        \"max\": 687.4,\n        \"num_unique_values\": 8,\n        \"samples\": [\n          317.6530612244898,\n          379.1,\n          98.0\n        ],\n        \"semantic_type\": \"\",\n        \"description\": \"\"\n      }\n    },\n    {\n      \"column\": \"Gas (PJ)\",\n      \"properties\": {\n        \"dtype\": \"number\",\n        \"std\": 210.91300297328644,\n        \"min\": 6.6,\n        \"max\": 692.6,\n        \"num_unique_values\": 8,\n        \"samples\": [\n          204.5877551020408,\n          144.7,\n          98.0\n        ],\n        \"semantic_type\": \"\",\n        \"description\": \"\"\n      }\n    },\n    {\n      \"column\": \"Renewables (PJ)\",\n      \"properties\": {\n        \"dtype\": \"number\",\n        \"std\": 44.99402695340768,\n        \"min\": 0.4,\n        \"max\": 143.0,\n        \"num_unique_values\": 8,\n        \"samples\": [\n          51.580612244897964,\n          42.5,\n          98.0\n        ],\n        \"semantic_type\": \"\",\n        \"description\": \"\"\n      }\n    },\n    {\n      \"column\": \"Population\",\n      \"properties\": {\n        \"dtype\": \"number\",\n        \"std\": 2966908.319160921,\n        \"min\": 98.0,\n        \"max\": 8622575.0,\n        \"num_unique_values\": 8,\n        \"samples\": [\n          3424329.9285714286,\n          2548325.0,\n          98.0\n        ],\n        \"semantic_type\": \"\",\n        \"description\": \"\"\n      }\n    },\n    {\n      \"column\": \"GSP ($ million)\",\n      \"properties\": {\n        \"dtype\": \"number\",\n        \"std\": 237243.56413700763,\n        \"min\": 98.0,\n        \"max\": 706003.0,\n        \"num_unique_values\": 8,\n        \"samples\": [\n          266337.0,\n          301927.0,\n          98.0\n        ],\n        \"semantic_type\": \"\",\n        \"description\": \"\"\n      }\n    }\n  ]\n}"
            }
          },
          "metadata": {},
          "execution_count": 9
        }
      ]
    },
    {
      "cell_type": "markdown",
      "source": [],
      "metadata": {
        "id": "2269UHkIqvTX"
      }
    },
    {
      "cell_type": "markdown",
      "source": [
        "### Interpretation:\n",
        "1.  Oil (PJ): The average oil consumption is 317.65 PJ, with a standard deviation of 229.32 PJ, indicating significant variability. The minimum consumption is 33.4 PJ, and the maximum is 687.4 PJ.\n",
        "2. Gas (PJ): The average gas consumption is 204.59 PJ, with a standard deviation of 179.21 PJ. The minimum is 6.6 PJ, and the maximum is 692.6 PJ, showing a wide range.  \n",
        "\n",
        "\n",
        "3.   Renewables (PJ): The average consumption from renewables is 51.58 PJ, with a standard deviation of 38.38 PJ. The minimum is 0.4 PJ, and the maximum is 143.0 PJ.\n",
        "4.   Population: The average population across the dataset is about 3.42 million, with a wide range (from 226,027 to 8,622,575), indicating a diverse set of states or regions.\n",
        "5. GSP ( million): The average Gross State Product is $266,337 million, with substantial variability (standard deviation of 209,376.49 million).The minimum GSP is 19,469 million, and the maximum is 706,003 million.\n",
        "\n",
        "These summary statistics provide an overview of the distribution and variability of energy consumption, population, and GSP across the dataset. High standard deviations relative to the means suggest significant differences in energy consumption, population sizes, and economic output across the states or regions included in the dataset."
      ],
      "metadata": {
        "id": "XR9nS3dDjoS0"
      }
    },
    {
      "cell_type": "markdown",
      "source": [],
      "metadata": {
        "id": "VnA3cU73q1cv"
      }
    },
    {
      "cell_type": "markdown",
      "source": [
        "### Check Data Set Missing Value"
      ],
      "metadata": {
        "id": "-Mj5w1d1Qi_I"
      }
    },
    {
      "cell_type": "code",
      "source": [],
      "metadata": {
        "id": "aSGA5oNtq4iy"
      },
      "execution_count": null,
      "outputs": []
    },
    {
      "cell_type": "code",
      "source": [
        "# Check for null values\n",
        "print(\"Null values in the dataset:\")\n",
        "print(asus_engy_df.isnull().sum())"
      ],
      "metadata": {
        "colab": {
          "base_uri": "https://localhost:8080/"
        },
        "id": "Y3dYduMRA3KY",
        "outputId": "80bc3952-5273-4f5f-c1dd-f84710fa6a25"
      },
      "execution_count": null,
      "outputs": [
        {
          "output_type": "stream",
          "name": "stdout",
          "text": [
            "Null values in the dataset:\n",
            "Year               0\n",
            "State              0\n",
            "Coal (PJ)          0\n",
            "Oil (PJ)           0\n",
            "Gas (PJ)           0\n",
            "Renewables (PJ)    0\n",
            "Population         0\n",
            "GSP ($ million)    0\n",
            "dtype: int64\n"
          ]
        }
      ]
    },
    {
      "cell_type": "markdown",
      "source": [],
      "metadata": {
        "id": "HoRTXjWoq7wW"
      }
    },
    {
      "cell_type": "markdown",
      "source": [
        "#### The dataset contains no Missing  values, as indicated by all entries in the series being False. This means each row in the dataset is unique."
      ],
      "metadata": {
        "id": "dvvo4OFEkYJ7"
      }
    },
    {
      "cell_type": "markdown",
      "source": [],
      "metadata": {
        "id": "ED0IZa9Jq_6f"
      }
    },
    {
      "cell_type": "markdown",
      "source": [
        "### Check Data Set Class Distribution"
      ],
      "metadata": {
        "id": "wLI9btosQ14-"
      }
    },
    {
      "cell_type": "code",
      "source": [],
      "metadata": {
        "id": "L0V-F47YrDTf"
      },
      "execution_count": null,
      "outputs": []
    },
    {
      "cell_type": "code",
      "source": [
        "# Calculate the count of superheroes by gender\n",
        "state_counts = asus_engy_df['State'].value_counts()\n",
        "\n",
        "state_counts"
      ],
      "metadata": {
        "colab": {
          "base_uri": "https://localhost:8080/"
        },
        "id": "73hnpi8_A3NT",
        "outputId": "d4c01bfd-e408-4a99-c792-6c9aa2b889f3"
      },
      "execution_count": null,
      "outputs": [
        {
          "output_type": "execute_result",
          "data": {
            "text/plain": [
              "State\n",
              "WA     14\n",
              "NSW    14\n",
              "VIC    14\n",
              "QLD    14\n",
              "SA     14\n",
              "TAS    14\n",
              "NT     14\n",
              "Name: count, dtype: int64"
            ]
          },
          "metadata": {},
          "execution_count": 10
        }
      ]
    },
    {
      "cell_type": "code",
      "source": [],
      "metadata": {
        "id": "WoMClj9rrHOr"
      },
      "execution_count": null,
      "outputs": []
    },
    {
      "cell_type": "code",
      "source": [
        "# Calculate the count of superheroes by gender\n",
        "state_counts = asus_engy_df['State'].value_counts()\n",
        "\n",
        "state_counts\n",
        "# Define a list of different colors for each bar\n",
        "colors = ['lightblue', 'lightgreen', 'lightcoral', 'lightsalmon', 'lightpink', 'lightgray', 'lightyellow']\n",
        "\n",
        "# Create a bar chart to visualize the distribution\n",
        "plt.figure(figsize=(8, 6))\n",
        "plt.bar(state_counts.index, state_counts.values, color=colors)\n",
        "plt.title('Distribution of State by Asus_Energy')\n",
        "plt.xlabel('State')\n",
        "plt.ylabel('Count')\n",
        "plt.xticks(rotation=0)\n",
        "\n",
        "# Display the plot\n",
        "plt.show()"
      ],
      "metadata": {
        "colab": {
          "base_uri": "https://localhost:8080/",
          "height": 564
        },
        "id": "bSklWdpok1mp",
        "outputId": "ac77fe61-67d2-474c-a6d4-a7fe0a76ff3e"
      },
      "execution_count": null,
      "outputs": [
        {
          "output_type": "display_data",
          "data": {
            "text/plain": [
              "<Figure size 800x600 with 1 Axes>"
            ],
            "image/png": "[encoded data removed]"
          },
          "metadata": {}
        }
      ]
    },
    {
      "cell_type": "markdown",
      "source": [],
      "metadata": {
        "id": "L7Gp4elLrLHs"
      }
    },
    {
      "cell_type": "markdown",
      "source": [
        "#### The bar chart visualizes the distribution of states within the Asus_Energy dataset. Each bar represents a different state with a unique color, making it easy to distinguish between them. The chart shows that each state—WA, NSW, VIC, QLD, SA, TAS, and NT—has an equal count of 14 entries in the dataset. This even distribution suggests that the dataset is balanced in terms of the representation of each state. The use of different colors enhances the visual appeal and helps in quickly identifying the states."
      ],
      "metadata": {
        "id": "A3iQ_ts5RLRb"
      }
    },
    {
      "cell_type": "markdown",
      "source": [],
      "metadata": {
        "id": "wPD3t9blrOae"
      }
    },
    {
      "cell_type": "markdown",
      "source": [
        "## Group-A Q1: Compute and visualize the total energy consumption for each state.\n",
        "\n",
        "\n",
        "\n"
      ],
      "metadata": {
        "id": "dTvbHKfER9JH"
      }
    },
    {
      "cell_type": "code",
      "source": [],
      "metadata": {
        "id": "ENoC2ufprRZT"
      },
      "execution_count": null,
      "outputs": []
    },
    {
      "cell_type": "code",
      "source": [
        "# Convert the 'Coal (PJ)' column to numeric\n",
        "asus_engy_df['Coal (PJ)'] = pd.to_numeric(asus_engy_df['Coal (PJ)'], errors='coerce')\n",
        "\n",
        "# Function to visualize total energy consumption by state\n",
        "def visualize_total_energy_by_state(df):\n",
        "    \"\"\"Visualize the total energy consumption for each state.\"\"\"\n",
        "    energy_columns = ['Coal (PJ)', 'Oil (PJ)', 'Gas (PJ)', 'Renewables (PJ)']\n",
        "\n",
        "    # Ensure all energy columns are numeric\n",
        "    for column in energy_columns:\n",
        "        df[column] = pd.to_numeric(df[column], errors='coerce')\n",
        "\n",
        "    total_energy_state = df.groupby('State')[energy_columns].sum()\n",
        "\n",
        "    ax = total_energy_state.plot(kind='bar', stacked=True, figsize=(10, 6), colormap='viridis')\n",
        "    ax.set_title('Total Energy Consumption by State', fontsize=16)\n",
        "    ax.set_xlabel('State', fontsize=14)\n",
        "    ax.set_ylabel('Energy Consumption (PJ)', fontsize=14)\n",
        "    ax.legend(title='Energy Source', bbox_to_anchor=(1.05, 1), loc='upper left')\n",
        "    plt.tight_layout()\n",
        "    plt.show()\n",
        "\n",
        "\n",
        "# Visualize total energy consumption by state\n",
        "visualize_total_energy_by_state(asus_engy_df)"
      ],
      "metadata": {
        "colab": {
          "base_uri": "https://localhost:8080/",
          "height": 607
        },
        "id": "vyvpqYvpA3QI",
        "outputId": "2445a780-87b1-4ff4-e568-1c1bbd7ed969"
      },
      "execution_count": null,
      "outputs": [
        {
          "output_type": "display_data",
          "data": {
            "text/plain": [
              "<Figure size 1000x600 with 1 Axes>"
            ],
            "image/png": "[encoded data removed]"
          },
          "metadata": {}
        }
      ]
    },
    {
      "cell_type": "markdown",
      "source": [],
      "metadata": {
        "id": "url3CqxDrV4Y"
      }
    },
    {
      "cell_type": "markdown",
      "source": [
        "### Overview:\n",
        "The bar chart visualizes the total energy consumption for each Australian state, broken down by fuel type: Coal (PJ), Oil (PJ), Gas (PJ), and Renewables (PJ). The data highlights the energy consumption patterns for different states, providing insights into the predominant energy sources.\n",
        "\n"
      ],
      "metadata": {
        "id": "m444NwKZTGVX"
      }
    },
    {
      "cell_type": "markdown",
      "source": [],
      "metadata": {
        "id": "XTSYpL5brZC0"
      }
    },
    {
      "cell_type": "markdown",
      "source": [
        "### Insights:\n",
        "New South Wales (NSW) has the highest total energy consumption, exceeding 20,000 PJ, with coal being the dominant energy source, contributing over 7,500 PJ. Northern Territory (NT) has the lowest total consumption at around 2,000 PJ, relying mostly on oil and gas with negligible use of coal and renewables. Queensland (QLD) has a total energy consumption of approximately 20,000 PJ, with significant use of coal and oil, and notable contributions from gas and renewables. South Australia (SA) consumes around 4,000 PJ, with a balanced distribution between coal, oil, gas, and renewables, but overall lower consumption. Tasmania (TAS) has a total energy consumption of less than 2,000 PJ, with higher reliance on renewables compared to other states. Victoria (VIC) has a total consumption of over 15,000 PJ, with significant use of coal and oil, and moderate contributions from gas and renewables. Western Australia (WA) consumes around 15,000 PJ, predominantly using oil and gas, with moderate use of coal and renewables.\n",
        "\n",
        "The visualization reveals that NSW, QLD, VIC, and WA are the highest energy-consuming states, primarily relying on coal and oil. In contrast, NT and TAS have the lowest total energy consumption, with TAS showing a higher reliance on renewables. The data highlights the varied energy consumption patterns across Australian states and underscores the dependence on fossil fuels, particularly coal and oil."
      ],
      "metadata": {
        "id": "tZDeGcouSAMq"
      }
    },
    {
      "cell_type": "markdown",
      "source": [],
      "metadata": {
        "id": "tbAlWr7Xrdej"
      }
    },
    {
      "cell_type": "markdown",
      "source": [],
      "metadata": {
        "id": "N8nIgljKrnDq"
      }
    },
    {
      "cell_type": "markdown",
      "source": [
        "## Group-A Q2: Compute and visualize the total energy consumption by fuel type."
      ],
      "metadata": {
        "id": "6wn0WlHJWjC3"
      }
    },
    {
      "cell_type": "code",
      "source": [],
      "metadata": {
        "id": "js0OS1XRrseP"
      },
      "execution_count": null,
      "outputs": []
    },
    {
      "cell_type": "code",
      "source": [
        "# Function to visualize total energy consumption by fuel type\n",
        "def visualize_total_energy_by_fuel_type(df):\n",
        "    \"\"\"Visualize the total energy consumption by fuel type.\"\"\"\n",
        "    # Ensure the columns are of numeric type\n",
        "    df['Coal (PJ)'] = pd.to_numeric(df['Coal (PJ)'], errors='coerce')\n",
        "    df['Oil (PJ)'] = pd.to_numeric(df['Oil (PJ)'], errors='coerce')\n",
        "    df['Gas (PJ)'] = pd.to_numeric(df['Gas (PJ)'], errors='coerce')\n",
        "    df['Renewables (PJ)'] = pd.to_numeric(df['Renewables (PJ)'], errors='coerce')\n",
        "\n",
        "    # Sum the total energy consumption by fuel type\n",
        "    total_energy_fuel = df[['Coal (PJ)', 'Oil (PJ)', 'Gas (PJ)', 'Renewables (PJ)']].sum()\n",
        "\n",
        "    # Pie chart for total energy consumption by fuel type\n",
        "    plt.figure(figsize=(8, 6))\n",
        "    total_energy_fuel.plot(kind='pie', autopct='%1.1f%%', colors=['purple', 'blue', 'green', 'yellow'])\n",
        "    plt.title('Total Energy Consumption by Fuel Type')\n",
        "    plt.ylabel('')\n",
        "    plt.tight_layout()\n",
        "    plt.show()\n",
        "\n",
        "# Assuming 'asus_engy_df' is the DataFrame containing the data\n",
        "visualize_total_energy_by_fuel_type(asus_engy_df)"
      ],
      "metadata": {
        "colab": {
          "base_uri": "https://localhost:8080/",
          "height": 607
        },
        "id": "5jQUwoGgWakz",
        "outputId": "7cdef3e1-d5f8-4cf7-80ec-d2621cde234c"
      },
      "execution_count": null,
      "outputs": [
        {
          "output_type": "display_data",
          "data": {
            "text/plain": [
              "<Figure size 800x600 with 1 Axes>"
            ],
            "image/png": "[encoded data removed]"
          },
          "metadata": {}
        }
      ]
    },
    {
      "cell_type": "markdown",
      "source": [],
      "metadata": {
        "id": "ttWeq0Fsrx2w"
      }
    },
    {
      "cell_type": "markdown",
      "source": [
        "### Overview:\n",
        "The pie chart displays the total energy consumption in Australia by fuel type, breaking down the contributions of Coal (PJ), Oil (PJ), Gas (PJ), and Renewables (PJ) to the overall energy consumption. This visual representation helps to understand the relative share of each fuel type in the total energy mix.\n",
        "\n",
        "\n"
      ],
      "metadata": {
        "id": "CH16MRcbXBoh"
      }
    },
    {
      "cell_type": "markdown",
      "source": [],
      "metadata": {
        "id": "t8oFYBQEr0-v"
      }
    },
    {
      "cell_type": "markdown",
      "source": [
        "### Insights:\n",
        "\n",
        "Oil emerges as the dominant energy source, accounting for 37.4% of the total energy consumption. Coal follows closely, contributing 32.4% to the energy mix. Gas represents 24.1% of the total energy consumption, indicating its significant role in the energy landscape. Renewables, although increasingly important, currently constitute the smallest share at 6.1%. This distribution highlights a heavy reliance on fossil fuels (oil, coal, and gas) in Australia's energy consumption, with a relatively smaller but growing share of renewable energy sources. The insights from this pie chart underscore the importance of transitioning towards more sustainable energy sources to reduce dependency on fossil fuels."
      ],
      "metadata": {
        "id": "UO7gIikWR76-"
      }
    }
  ]
}